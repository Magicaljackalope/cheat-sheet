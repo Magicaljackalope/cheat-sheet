{
 "cells": [
  {
   "cell_type": "markdown",
   "id": "dba323c9",
   "metadata": {},
   "source": [
    "# Contents\n",
    "##### 1. [Libraries](#1.-Libraries)\n",
    "##### 2. [Read file](#2.-Read-file)\n",
    "##### 3. [Optimization](#3.-Optimization)\n",
    "##### 3. [Analisis](#4.-Analysis)\n",
    "##### 4. [Preprocessing](#5.-Preprocessing)\n",
    "##### 5. [Training](#6.-Training)\n",
    "##### 7. [Results](#7.-Results)\n",
    "##### 8. [Save](#8.-Save)"
   ]
  },
  {
   "cell_type": "markdown",
   "id": "fb082b64",
   "metadata": {},
   "source": [
    "### 1. Libraries"
   ]
  },
  {
   "cell_type": "code",
   "execution_count": 1,
   "id": "5cc2ce71",
   "metadata": {},
   "outputs": [],
   "source": [
    "import numpy as np\n",
    "import pandas as pd"
   ]
  },
  {
   "cell_type": "markdown",
   "id": "fd1f8a80",
   "metadata": {},
   "source": [
    "### 2. Read file"
   ]
  },
  {
   "cell_type": "markdown",
   "id": "2f2581d4",
   "metadata": {},
   "source": [
    "### 3. Optimization"
   ]
  },
  {
   "cell_type": "markdown",
   "id": "20a0c0a6",
   "metadata": {},
   "source": [
    "### 4. Analisis"
   ]
  },
  {
   "cell_type": "markdown",
   "id": "73a4f766",
   "metadata": {},
   "source": [
    "### 5. Preprocessing"
   ]
  },
  {
   "cell_type": "markdown",
   "id": "cd1622c9",
   "metadata": {},
   "source": [
    "### 6. Training"
   ]
  },
  {
   "cell_type": "markdown",
   "id": "60f4261a",
   "metadata": {},
   "source": [
    "### 7. Results"
   ]
  },
  {
   "cell_type": "markdown",
   "id": "8352985e",
   "metadata": {},
   "source": [
    "### 8. Save"
   ]
  }
 ],
 "metadata": {
  "kernelspec": {
   "display_name": "Python 3 (ipykernel)",
   "language": "python",
   "name": "python3"
  },
  "language_info": {
   "codemirror_mode": {
    "name": "ipython",
    "version": 3
   },
   "file_extension": ".py",
   "mimetype": "text/x-python",
   "name": "python",
   "nbconvert_exporter": "python",
   "pygments_lexer": "ipython3",
   "version": "3.9.7"
  }
 },
 "nbformat": 4,
 "nbformat_minor": 5
}
