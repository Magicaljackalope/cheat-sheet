{
 "cells": [
  {
   "cell_type": "markdown",
   "id": "380cf99b",
   "metadata": {},
   "source": [
    "# Contents\n",
    "##### 1. [Libraries](#1)\n",
    "##### 2. [Data preparation](#2)\n",
    "##### &nbsp; &nbsp; 2.1. [Read file](#2.1)\n",
    "##### &nbsp; &nbsp; 2.2. [First look](#2.2)\n",
    "##### 3. [Optimization](#3)\n",
    "##### 3. [Analisis](#4)\n",
    "##### 4. [Preprocessing](#5)\n",
    "##### 5. [Training](#6)\n",
    "##### 7. [Results](#7)\n",
    "##### 8. [Save](#8)"
   ]
  },
  {
   "cell_type": "markdown",
   "id": "4c0af697",
   "metadata": {},
   "source": [
    "<a id=\"1\"></a>\n",
    "### 1. Libraries"
   ]
  },
  {
   "cell_type": "code",
   "execution_count": 2,
   "id": "3171e3ef",
   "metadata": {},
   "outputs": [],
   "source": [
    "import numpy as np\n",
    "import pandas as pd\n",
    "import sys\n",
    "from time import time\n",
    "import seaborn as sns\n",
    "import matplotlib.pyplot as plt"
   ]
  },
  {
   "cell_type": "markdown",
   "id": "79eb97f3",
   "metadata": {},
   "source": [
    "<a id=\"2\"></a>\n",
    "### 2. Data preparation"
   ]
  },
  {
   "cell_type": "markdown",
   "id": "d96c103c",
   "metadata": {},
   "source": [
    "<a id=\"2.1\"></a>\n",
    "#### 2.1. Read-file"
   ]
  },
  {
   "cell_type": "code",
   "execution_count": null,
   "id": "56adf72c",
   "metadata": {},
   "outputs": [],
   "source": [
    "filename = '...'\n",
    "df = pd.read_csv(filename)"
   ]
  },
  {
   "cell_type": "code",
   "execution_count": 5,
   "id": "74a04909",
   "metadata": {},
   "outputs": [],
   "source": [
    "df = pd.DataFrame([[1,'Bob', 'Builder'],\n",
    "                  [2,'Sally', 'Baker'],\n",
    "                  [3,'Scott', 'Candle Stick Maker']], \n",
    "                  columns=['id','name', 'occupation'])\n",
    "df_copy = df.copy(deep=True)"
   ]
  },
  {
   "cell_type": "markdown",
   "id": "b9a60014",
   "metadata": {},
   "source": [
    "<a id=\"2.2\"></a>\n",
    "#### 2.2. First look"
   ]
  },
  {
   "cell_type": "code",
   "execution_count": 9,
   "id": "08af75b4",
   "metadata": {},
   "outputs": [
    {
     "data": {
      "text/html": [
       "<div>\n",
       "<style scoped>\n",
       "    .dataframe tbody tr th:only-of-type {\n",
       "        vertical-align: middle;\n",
       "    }\n",
       "\n",
       "    .dataframe tbody tr th {\n",
       "        vertical-align: top;\n",
       "    }\n",
       "\n",
       "    .dataframe thead th {\n",
       "        text-align: right;\n",
       "    }\n",
       "</style>\n",
       "<table border=\"1\" class=\"dataframe\">\n",
       "  <thead>\n",
       "    <tr style=\"text-align: right;\">\n",
       "      <th></th>\n",
       "      <th>id</th>\n",
       "      <th>name</th>\n",
       "      <th>occupation</th>\n",
       "    </tr>\n",
       "  </thead>\n",
       "  <tbody>\n",
       "    <tr>\n",
       "      <th>0</th>\n",
       "      <td>1</td>\n",
       "      <td>Bob</td>\n",
       "      <td>Builder</td>\n",
       "    </tr>\n",
       "    <tr>\n",
       "      <th>1</th>\n",
       "      <td>2</td>\n",
       "      <td>Sally</td>\n",
       "      <td>Baker</td>\n",
       "    </tr>\n",
       "    <tr>\n",
       "      <th>2</th>\n",
       "      <td>3</td>\n",
       "      <td>Scott</td>\n",
       "      <td>Candle Stick Maker</td>\n",
       "    </tr>\n",
       "  </tbody>\n",
       "</table>\n",
       "</div>"
      ],
      "text/plain": [
       "   id   name          occupation\n",
       "0   1    Bob             Builder\n",
       "1   2  Sally               Baker\n",
       "2   3  Scott  Candle Stick Maker"
      ]
     },
     "execution_count": 9,
     "metadata": {},
     "output_type": "execute_result"
    }
   ],
   "source": [
    "df.head() #df.tail()"
   ]
  },
  {
   "cell_type": "code",
   "execution_count": 7,
   "id": "df31c09b",
   "metadata": {},
   "outputs": [
    {
     "name": "stdout",
     "output_type": "stream",
     "text": [
      "<class 'pandas.core.frame.DataFrame'>\n",
      "RangeIndex: 3 entries, 0 to 2\n",
      "Data columns (total 3 columns):\n",
      " #   Column      Non-Null Count  Dtype \n",
      "---  ------      --------------  ----- \n",
      " 0   id          3 non-null      int64 \n",
      " 1   name        3 non-null      object\n",
      " 2   occupation  3 non-null      object\n",
      "dtypes: int64(1), object(2)\n",
      "memory usage: 200.0+ bytes\n"
     ]
    }
   ],
   "source": [
    "df.info()"
   ]
  },
  {
   "cell_type": "code",
   "execution_count": 8,
   "id": "152a2e73",
   "metadata": {},
   "outputs": [
    {
     "data": {
      "text/html": [
       "<div>\n",
       "<style scoped>\n",
       "    .dataframe tbody tr th:only-of-type {\n",
       "        vertical-align: middle;\n",
       "    }\n",
       "\n",
       "    .dataframe tbody tr th {\n",
       "        vertical-align: top;\n",
       "    }\n",
       "\n",
       "    .dataframe thead th {\n",
       "        text-align: right;\n",
       "    }\n",
       "</style>\n",
       "<table border=\"1\" class=\"dataframe\">\n",
       "  <thead>\n",
       "    <tr style=\"text-align: right;\">\n",
       "      <th></th>\n",
       "      <th>id</th>\n",
       "    </tr>\n",
       "  </thead>\n",
       "  <tbody>\n",
       "    <tr>\n",
       "      <th>count</th>\n",
       "      <td>3.0</td>\n",
       "    </tr>\n",
       "    <tr>\n",
       "      <th>mean</th>\n",
       "      <td>2.0</td>\n",
       "    </tr>\n",
       "    <tr>\n",
       "      <th>std</th>\n",
       "      <td>1.0</td>\n",
       "    </tr>\n",
       "    <tr>\n",
       "      <th>min</th>\n",
       "      <td>1.0</td>\n",
       "    </tr>\n",
       "    <tr>\n",
       "      <th>25%</th>\n",
       "      <td>1.5</td>\n",
       "    </tr>\n",
       "    <tr>\n",
       "      <th>50%</th>\n",
       "      <td>2.0</td>\n",
       "    </tr>\n",
       "    <tr>\n",
       "      <th>75%</th>\n",
       "      <td>2.5</td>\n",
       "    </tr>\n",
       "    <tr>\n",
       "      <th>max</th>\n",
       "      <td>3.0</td>\n",
       "    </tr>\n",
       "  </tbody>\n",
       "</table>\n",
       "</div>"
      ],
      "text/plain": [
       "        id\n",
       "count  3.0\n",
       "mean   2.0\n",
       "std    1.0\n",
       "min    1.0\n",
       "25%    1.5\n",
       "50%    2.0\n",
       "75%    2.5\n",
       "max    3.0"
      ]
     },
     "execution_count": 8,
     "metadata": {},
     "output_type": "execute_result"
    }
   ],
   "source": [
    "df.describe()"
   ]
  },
  {
   "cell_type": "code",
   "execution_count": null,
   "id": "224ec527",
   "metadata": {},
   "outputs": [],
   "source": []
  },
  {
   "cell_type": "code",
   "execution_count": null,
   "id": "8eebfb2d",
   "metadata": {},
   "outputs": [],
   "source": []
  },
  {
   "cell_type": "markdown",
   "id": "2f1d97f4",
   "metadata": {},
   "source": [
    "<a id=\"3\"></a>\n",
    "### 3. Optimization"
   ]
  },
  {
   "cell_type": "markdown",
   "id": "4af33a8e",
   "metadata": {},
   "source": [
    "<a id=\"4\"></a>\n",
    "### 4. Analisis"
   ]
  },
  {
   "cell_type": "markdown",
   "id": "96f46db8",
   "metadata": {},
   "source": [
    "<a id=\"5\"></a>\n",
    "### 5. Preprocessing"
   ]
  },
  {
   "cell_type": "markdown",
   "id": "2dde1565",
   "metadata": {},
   "source": [
    "<a id=\"6\"></a>\n",
    "### 6. Training"
   ]
  },
  {
   "cell_type": "markdown",
   "id": "60704e62",
   "metadata": {},
   "source": [
    "<a id=\"7\"></a>\n",
    "### 7. Results"
   ]
  },
  {
   "cell_type": "code",
   "execution_count": null,
   "id": "f77a8336",
   "metadata": {},
   "outputs": [],
   "source": []
  },
  {
   "cell_type": "markdown",
   "id": "3da98110",
   "metadata": {},
   "source": [
    "<a id=\"8\"></a>\n",
    "### 8. Save"
   ]
  }
 ],
 "metadata": {
  "kernelspec": {
   "display_name": "Python 3 (ipykernel)",
   "language": "python",
   "name": "python3"
  },
  "language_info": {
   "codemirror_mode": {
    "name": "ipython",
    "version": 3
   },
   "file_extension": ".py",
   "mimetype": "text/x-python",
   "name": "python",
   "nbconvert_exporter": "python",
   "pygments_lexer": "ipython3",
   "version": "3.9.7"
  }
 },
 "nbformat": 4,
 "nbformat_minor": 5
}
